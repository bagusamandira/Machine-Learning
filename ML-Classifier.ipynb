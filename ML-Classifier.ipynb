{
  "nbformat": 4,
  "nbformat_minor": 0,
  "metadata": {
    "colab": {
      "provenance": [],
      "authorship_tag": "ABX9TyNZFkPx2T0AgrWIKklLLlaN",
      "include_colab_link": true
    },
    "kernelspec": {
      "name": "python3",
      "display_name": "Python 3"
    },
    "language_info": {
      "name": "python"
    }
  },
  "cells": [
    {
      "cell_type": "markdown",
      "metadata": {
        "id": "view-in-github",
        "colab_type": "text"
      },
      "source": [
        "<a href=\"https://colab.research.google.com/github/bagusamandira/Machine-Learning/blob/main/ML-Classifier.ipynb\" target=\"_parent\"><img src=\"https://colab.research.google.com/assets/colab-badge.svg\" alt=\"Open In Colab\"/></a>"
      ]
    },
    {
      "cell_type": "code",
      "execution_count": null,
      "metadata": {
        "id": "6ghfBkbk6bl_"
      },
      "outputs": [],
      "source": [
        "import pandas as pd\n",
        "import numpy as np\n",
        "import matplotlib.pyplot as plt\n",
        "import seaborn as sns\n",
        "\n",
        "from sklearn.datasets import load_breast_cancer"
      ]
    },
    {
      "cell_type": "code",
      "source": [
        "cancer = load_breast_cancer()\n",
        "df = pd.DataFrame(cancer['data'], columns = cancer['feature_names'])\n",
        "df['target'] = cancer['target']\n",
        "df.info()"
      ],
      "metadata": {
        "id": "Jsx80lruDonG"
      },
      "execution_count": null,
      "outputs": []
    },
    {
      "cell_type": "code",
      "source": [
        "#split data\n",
        "\n",
        "from sklearn.model_selection import train_test_split\n",
        "df_feature = df.drop('target', axis = 1)\n",
        "df_target = df['target']\n",
        "x_train, x_test, y_train, y_test = train_test_split(df_feature, df_target, test_size = 0.3, random_state=99)\n",
        "\n",
        "print('x train: ', len(x_train))\n",
        "print('y train: ', len(y_train))\n",
        "print('x test: ', len(x_test))\n",
        "print('y test: ', len(y_test))"
      ],
      "metadata": {
        "colab": {
          "base_uri": "https://localhost:8080/"
        },
        "id": "D-jy7k3lEK8u",
        "outputId": "0aa0b6ad-1f43-4416-f0d4-e03adb8bc2e7"
      },
      "execution_count": null,
      "outputs": [
        {
          "output_type": "stream",
          "name": "stdout",
          "text": [
            "x train:  398\n",
            "y train:  398\n",
            "x test:  171\n",
            "y test:  171\n"
          ]
        }
      ]
    },
    {
      "cell_type": "code",
      "source": [
        "\n",
        "print('malignant train: ', len(x_train)-sum(y_train))\n",
        "print('benign train: ', sum(y_train))\n",
        "print('malignant test: ', len(x_test)-sum(y_test))\n",
        "print('benign test: ', sum(y_test))"
      ],
      "metadata": {
        "colab": {
          "base_uri": "https://localhost:8080/"
        },
        "id": "DzOjj959EiPv",
        "outputId": "7e517527-61a4-4fbb-b932-55fd0a9372ad"
      },
      "execution_count": null,
      "outputs": [
        {
          "output_type": "stream",
          "name": "stdout",
          "text": [
            "malignant train:  154\n",
            "benign train:  244\n",
            "malignant test:  58\n",
            "benign test:  113\n"
          ]
        }
      ]
    },
    {
      "cell_type": "code",
      "source": [
        "#estimatorf\n",
        "\n",
        "from sklearn.linear_model import LogisticRegression\n",
        "from sklearn.tree import DecisionTreeClassifier\n",
        "from sklearn.svm import SVC\n",
        "\n",
        "from sklearn.metrics import classification_report"
      ],
      "metadata": {
        "id": "Zj8xrfrwFYyW"
      },
      "execution_count": null,
      "outputs": []
    },
    {
      "cell_type": "code",
      "source": [
        "#LR model\n",
        "\n",
        "LR_model = LogisticRegression(random_state=99, n_jobs=4)\n",
        "LR_model.fit(x_train, y_train)\n",
        "pred = LR_model.predict(x_test)\n",
        "print(classification_report(pred,y_test))"
      ],
      "metadata": {
        "colab": {
          "base_uri": "https://localhost:8080/"
        },
        "id": "HrAKKPKcFvSe",
        "outputId": "4a53392f-9417-45c2-9c4a-a2980ed8dcad"
      },
      "execution_count": null,
      "outputs": [
        {
          "output_type": "stream",
          "name": "stdout",
          "text": [
            "              precision    recall  f1-score   support\n",
            "\n",
            "           0       0.91      0.95      0.93        56\n",
            "           1       0.97      0.96      0.96       115\n",
            "\n",
            "    accuracy                           0.95       171\n",
            "   macro avg       0.94      0.95      0.95       171\n",
            "weighted avg       0.95      0.95      0.95       171\n",
            "\n"
          ]
        }
      ]
    },
    {
      "cell_type": "code",
      "source": [
        "#DT model\n",
        "\n",
        "DT_model = DecisionTreeClassifier(random_state=99)\n",
        "DT_model.fit(x_train, y_train)\n",
        "pred = DT_model.predict(x_test)\n",
        "print(classification_report(pred,y_test))"
      ],
      "metadata": {
        "colab": {
          "base_uri": "https://localhost:8080/"
        },
        "id": "ncaviFMRGbyu",
        "outputId": "840eccbb-693a-4cc7-8fd3-12aeb648296b"
      },
      "execution_count": null,
      "outputs": [
        {
          "output_type": "stream",
          "name": "stdout",
          "text": [
            "              precision    recall  f1-score   support\n",
            "\n",
            "           0       0.88      0.91      0.89        56\n",
            "           1       0.96      0.94      0.95       115\n",
            "\n",
            "    accuracy                           0.93       171\n",
            "   macro avg       0.92      0.92      0.92       171\n",
            "weighted avg       0.93      0.93      0.93       171\n",
            "\n"
          ]
        }
      ]
    },
    {
      "cell_type": "code",
      "source": [
        "#SVM model\n",
        "\n",
        "SVM_model = SVC(random_state=99, C=10,gamma=0.0001, kernel='rbf',probability=True)\n",
        "SVM_model.fit(x_train, y_train)\n",
        "pred = SVM_model.predict(x_test)\n",
        "print(classification_report(pred,y_test))"
      ],
      "metadata": {
        "colab": {
          "base_uri": "https://localhost:8080/"
        },
        "id": "TuTxHuTyGl_U",
        "outputId": "f8134761-48e3-4b3a-a9ab-d9af9872a4da"
      },
      "execution_count": null,
      "outputs": [
        {
          "output_type": "stream",
          "name": "stdout",
          "text": [
            "              precision    recall  f1-score   support\n",
            "\n",
            "           0       0.88      0.94      0.91        54\n",
            "           1       0.97      0.94      0.96       117\n",
            "\n",
            "    accuracy                           0.94       171\n",
            "   macro avg       0.93      0.94      0.93       171\n",
            "weighted avg       0.94      0.94      0.94       171\n",
            "\n"
          ]
        }
      ]
    },
    {
      "cell_type": "code",
      "source": [
        "#ensemble model\n",
        "\n",
        "from sklearn.ensemble import VotingClassifier\n",
        "\n",
        "estimators = [('LR', LR_model), ('DT', DT_model), ('SVM', SVM_model)]\n",
        "voting_model = VotingClassifier(estimators=estimators, voting='hard')\n",
        "voting_model.fit(x_train, y_train)\n",
        "pred = voting_model.predict(x_test)\n",
        "print(classification_report(pred,y_test))"
      ],
      "metadata": {
        "colab": {
          "base_uri": "https://localhost:8080/"
        },
        "id": "ZHCC6cL9HeJd",
        "outputId": "d026df99-c7f3-4d7e-ef40-82d295724af9"
      },
      "execution_count": null,
      "outputs": [
        {
          "output_type": "stream",
          "name": "stdout",
          "text": [
            "              precision    recall  f1-score   support\n",
            "\n",
            "           0       0.93      0.98      0.96        55\n",
            "           1       0.99      0.97      0.98       116\n",
            "\n",
            "    accuracy                           0.97       171\n",
            "   macro avg       0.96      0.97      0.97       171\n",
            "weighted avg       0.97      0.97      0.97       171\n",
            "\n"
          ]
        }
      ]
    },
    {
      "cell_type": "code",
      "source": [
        "#ensemble model\n",
        "\n",
        "from sklearn.ensemble import VotingClassifier\n",
        "\n",
        "estimators = [('LR', LR_model), ('DT', DT_model), ('SVM', SVM_model)]\n",
        "voting_model = VotingClassifier(estimators=estimators, voting='soft')\n",
        "voting_model.fit(x_train, y_train)\n",
        "pred = voting_model.predict(x_test)\n",
        "print(classification_report(pred,y_test))"
      ],
      "metadata": {
        "colab": {
          "base_uri": "https://localhost:8080/"
        },
        "id": "dthMckT1IAdF",
        "outputId": "78724623-bfac-4de6-fb56-0ffb5675da2c"
      },
      "execution_count": null,
      "outputs": [
        {
          "output_type": "stream",
          "name": "stdout",
          "text": [
            "              precision    recall  f1-score   support\n",
            "\n",
            "           0       0.97      0.98      0.97        57\n",
            "           1       0.99      0.98      0.99       114\n",
            "\n",
            "    accuracy                           0.98       171\n",
            "   macro avg       0.98      0.98      0.98       171\n",
            "weighted avg       0.98      0.98      0.98       171\n",
            "\n"
          ]
        }
      ]
    },
    {
      "cell_type": "code",
      "source": [
        "#sampling\n",
        "\n",
        "from sklearn.ensemble import BaggingClassifier\n",
        "\n",
        "bagging_model = BaggingClassifier(n_estimators=100, estimator = DT_model, random_state=99)\n",
        "bagging_model.fit(x_train, y_train)\n",
        "pred = bagging_model.predict(x_test)\n",
        "print(classification_report(pred,y_test))"
      ],
      "metadata": {
        "colab": {
          "base_uri": "https://localhost:8080/"
        },
        "id": "wnfeFiPmIo4c",
        "outputId": "2044dd1c-ce1c-4390-f17a-797312580efb"
      },
      "execution_count": null,
      "outputs": [
        {
          "output_type": "stream",
          "name": "stdout",
          "text": [
            "              precision    recall  f1-score   support\n",
            "\n",
            "           0       0.93      0.96      0.95        56\n",
            "           1       0.98      0.97      0.97       115\n",
            "\n",
            "    accuracy                           0.96       171\n",
            "   macro avg       0.96      0.96      0.96       171\n",
            "weighted avg       0.97      0.96      0.97       171\n",
            "\n"
          ]
        }
      ]
    },
    {
      "cell_type": "code",
      "source": [
        "#boosting\n",
        "\n",
        "from sklearn.ensemble import AdaBoostClassifier\n",
        "from sklearn.ensemble import GradientBoostingClassifier\n"
      ],
      "metadata": {
        "id": "EwsfY-arJ2eF"
      },
      "execution_count": null,
      "outputs": []
    },
    {
      "cell_type": "code",
      "source": [
        "#Adaboost\n",
        "adaboost = AdaBoostClassifier(n_estimators=100, estimator=LR_model)\n",
        "adaboost.fit(x_train, y_train)\n",
        "pred = adaboost.predict(x_test)\n",
        "print(classification_report(pred,y_test))"
      ],
      "metadata": {
        "colab": {
          "base_uri": "https://localhost:8080/"
        },
        "id": "luiFBto5KOuz",
        "outputId": "91d70713-5de0-4758-d401-c70ea22baa6d"
      },
      "execution_count": null,
      "outputs": [
        {
          "output_type": "stream",
          "name": "stdout",
          "text": [
            "              precision    recall  f1-score   support\n",
            "\n",
            "           0       0.98      0.95      0.97        60\n",
            "           1       0.97      0.99      0.98       111\n",
            "\n",
            "    accuracy                           0.98       171\n",
            "   macro avg       0.98      0.97      0.97       171\n",
            "weighted avg       0.98      0.98      0.98       171\n",
            "\n"
          ]
        }
      ]
    },
    {
      "cell_type": "code",
      "source": [
        "#gradient boosting\n",
        "GBM_model = GradientBoostingClassifier(n_estimators=100)\n",
        "GBM_model.fit(x_train, y_train)\n",
        "pred = GBM_model.predict(x_test)\n",
        "print(classification_report(pred,y_test))"
      ],
      "metadata": {
        "colab": {
          "base_uri": "https://localhost:8080/"
        },
        "id": "EBk4j35VK9FD",
        "outputId": "0a70da51-3951-4b29-d314-7e76e52a68b5"
      },
      "execution_count": null,
      "outputs": [
        {
          "output_type": "stream",
          "name": "stdout",
          "text": [
            "              precision    recall  f1-score   support\n",
            "\n",
            "           0       0.95      0.96      0.96        57\n",
            "           1       0.98      0.97      0.98       114\n",
            "\n",
            "    accuracy                           0.97       171\n",
            "   macro avg       0.97      0.97      0.97       171\n",
            "weighted avg       0.97      0.97      0.97       171\n",
            "\n"
          ]
        }
      ]
    },
    {
      "cell_type": "code",
      "source": [],
      "metadata": {
        "id": "rhL1OJBzKZmz"
      },
      "execution_count": null,
      "outputs": []
    }
  ]
}