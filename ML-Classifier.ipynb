{
  "nbformat": 4,
  "nbformat_minor": 0,
  "metadata": {
    "colab": {
      "provenance": [],
      "authorship_tag": "ABX9TyNy1rPMpm4uS6zAAXNMKwxd",
      "include_colab_link": true
    },
    "kernelspec": {
      "name": "python3",
      "display_name": "Python 3"
    },
    "language_info": {
      "name": "python"
    }
  },
  "cells": [
    {
      "cell_type": "markdown",
      "metadata": {
        "id": "view-in-github",
        "colab_type": "text"
      },
      "source": [
        "<a href=\"https://colab.research.google.com/github/bagusamandira/Machine-Learning/blob/main/ML-Classifier.ipynb\" target=\"_parent\"><img src=\"https://colab.research.google.com/assets/colab-badge.svg\" alt=\"Open In Colab\"/></a>"
      ]
    },
    {
      "cell_type": "code",
      "execution_count": null,
      "metadata": {
        "id": "YBOUD_NhWKTJ"
      },
      "outputs": [],
      "source": [
        "import pandas as pd\n",
        "import numpy as np\n",
        "import matplotlib.pyplot as plt\n",
        "import seaborn as sns"
      ]
    },
    {
      "cell_type": "code",
      "source": [
        "df_raw= pd.read_csv('/content/dataset_lab4.csv')\n",
        "df_raw.info()"
      ],
      "metadata": {
        "colab": {
          "base_uri": "https://localhost:8080/"
        },
        "id": "jwudqxwhWVgn",
        "outputId": "c50fa1e0-1c75-49cb-b362-2d5b7458882d"
      },
      "execution_count": null,
      "outputs": [
        {
          "output_type": "stream",
          "name": "stdout",
          "text": [
            "<class 'pandas.core.frame.DataFrame'>\n",
            "RangeIndex: 12528 entries, 0 to 12527\n",
            "Data columns (total 9 columns):\n",
            " #   Column      Non-Null Count  Dtype  \n",
            "---  ------      --------------  -----  \n",
            " 0   Variable A  12528 non-null  float64\n",
            " 1   Variable B  12528 non-null  float64\n",
            " 2   Variable C  10793 non-null  float64\n",
            " 3   Variable D  12528 non-null  float64\n",
            " 4   Variable E  12528 non-null  float64\n",
            " 5   Variable F  11350 non-null  float64\n",
            " 6   Variable G  12528 non-null  float64\n",
            " 7   Variable H  11903 non-null  float64\n",
            " 8   Target      12528 non-null  int64  \n",
            "dtypes: float64(8), int64(1)\n",
            "memory usage: 881.0 KB\n"
          ]
        }
      ]
    },
    {
      "cell_type": "code",
      "source": [
        "df_raw.isna().sum()"
      ],
      "metadata": {
        "colab": {
          "base_uri": "https://localhost:8080/"
        },
        "id": "3S1J8RMQWaY9",
        "outputId": "b09af478-998a-4990-b445-c1d15eb186ee"
      },
      "execution_count": null,
      "outputs": [
        {
          "output_type": "execute_result",
          "data": {
            "text/plain": [
              "Variable A       0\n",
              "Variable B       0\n",
              "Variable C    1735\n",
              "Variable D       0\n",
              "Variable E       0\n",
              "Variable F    1178\n",
              "Variable G       0\n",
              "Variable H     625\n",
              "Target           0\n",
              "dtype: int64"
            ]
          },
          "metadata": {},
          "execution_count": 5
        }
      ]
    },
    {
      "cell_type": "code",
      "source": [
        "columns = list(df_raw.columns)\n",
        "df_raw.dropna(subset = columns, inplace=True)"
      ],
      "metadata": {
        "id": "fhHpP3fIWhdt"
      },
      "execution_count": null,
      "outputs": []
    },
    {
      "cell_type": "code",
      "source": [
        "df = df_raw.copy()"
      ],
      "metadata": {
        "id": "n8bAtxJmWlnE"
      },
      "execution_count": null,
      "outputs": []
    },
    {
      "cell_type": "code",
      "source": [
        "df['Target'].sum()"
      ],
      "metadata": {
        "colab": {
          "base_uri": "https://localhost:8080/"
        },
        "id": "nMwU9AeqWozL",
        "outputId": "3d58071e-53a5-4abb-cca8-cff7b5d83365"
      },
      "execution_count": null,
      "outputs": [
        {
          "output_type": "execute_result",
          "data": {
            "text/plain": [
              "850"
            ]
          },
          "metadata": {},
          "execution_count": 72
        }
      ]
    },
    {
      "cell_type": "code",
      "source": [
        "from sklearn.model_selection import train_test_split\n",
        "df_feature = df.drop('Target', axis = 1)\n",
        "df_target = df['Target']\n",
        "x_train, x_test, y_train, y_test = train_test_split(df_feature, df_target, test_size = 0.3, random_state=20)"
      ],
      "metadata": {
        "id": "mZ80ukMDWqRE"
      },
      "execution_count": null,
      "outputs": []
    },
    {
      "cell_type": "code",
      "source": [
        "from sklearn.linear_model import LogisticRegression\n",
        "from sklearn.tree import DecisionTreeClassifier\n",
        "from sklearn.svm import SVC\n",
        "\n",
        "from sklearn.metrics import classification_report"
      ],
      "metadata": {
        "id": "evyBKMlBWtBM"
      },
      "execution_count": null,
      "outputs": []
    },
    {
      "cell_type": "code",
      "source": [
        "#LR model\n",
        "\n",
        "LR_model = LogisticRegression(random_state=99, n_jobs=4)\n",
        "LR_model.fit(x_train, y_train)\n",
        "pred = LR_model.predict(x_test)\n",
        "print(classification_report(pred,y_test))"
      ],
      "metadata": {
        "colab": {
          "base_uri": "https://localhost:8080/"
        },
        "id": "XoGOINkRWumj",
        "outputId": "e85be276-3618-41b2-d235-dcd7490220b7"
      },
      "execution_count": null,
      "outputs": [
        {
          "output_type": "stream",
          "name": "stdout",
          "text": [
            "              precision    recall  f1-score   support\n",
            "\n",
            "           0       0.99      0.98      0.99      3405\n",
            "           1       0.83      0.93      0.88       305\n",
            "\n",
            "    accuracy                           0.98      3710\n",
            "   macro avg       0.91      0.96      0.93      3710\n",
            "weighted avg       0.98      0.98      0.98      3710\n",
            "\n"
          ]
        }
      ]
    },
    {
      "cell_type": "code",
      "source": [
        "#DT model\n",
        "\n",
        "DT_model = DecisionTreeClassifier(random_state=99)\n",
        "DT_model.fit(x_train, y_train)\n",
        "pred = DT_model.predict(x_test)\n",
        "print(classification_report(pred,y_test))"
      ],
      "metadata": {
        "colab": {
          "base_uri": "https://localhost:8080/"
        },
        "id": "M37vxbEQWz0c",
        "outputId": "a4b6b34c-bbf5-44f1-bd51-e448c47b9b34"
      },
      "execution_count": null,
      "outputs": [
        {
          "output_type": "stream",
          "name": "stdout",
          "text": [
            "              precision    recall  f1-score   support\n",
            "\n",
            "           0       0.98      0.98      0.98      3352\n",
            "           1       0.82      0.79      0.80       358\n",
            "\n",
            "    accuracy                           0.96      3710\n",
            "   macro avg       0.90      0.88      0.89      3710\n",
            "weighted avg       0.96      0.96      0.96      3710\n",
            "\n"
          ]
        }
      ]
    },
    {
      "cell_type": "code",
      "source": [
        "#SVM model\n",
        "\n",
        "SVM_model = SVC(random_state=99, C=10,gamma=0.0001, kernel='rbf',probability=True)\n",
        "SVM_model.fit(x_train, y_train)\n",
        "pred = SVM_model.predict(x_test)\n",
        "print(classification_report(pred,y_test))"
      ],
      "metadata": {
        "colab": {
          "base_uri": "https://localhost:8080/"
        },
        "id": "5qNtI-GOW9A5",
        "outputId": "8c7ff2c4-fe96-4e37-ff3f-8ff04a5642b2"
      },
      "execution_count": null,
      "outputs": [
        {
          "output_type": "stream",
          "name": "stdout",
          "text": [
            "              precision    recall  f1-score   support\n",
            "\n",
            "           0       0.99      0.98      0.99      3416\n",
            "           1       0.79      0.92      0.85       294\n",
            "\n",
            "    accuracy                           0.97      3710\n",
            "   macro avg       0.89      0.95      0.92      3710\n",
            "weighted avg       0.98      0.97      0.98      3710\n",
            "\n"
          ]
        }
      ]
    },
    {
      "cell_type": "code",
      "source": [
        "#ensemble model\n",
        "\n",
        "from sklearn.ensemble import VotingClassifier\n",
        "\n",
        "estimators = [('LR', LR_model), ('DT', DT_model), ('SVM', SVM_model)]\n",
        "voting_model = VotingClassifier(estimators=estimators, voting='hard')\n",
        "voting_model.fit(x_train, y_train)\n",
        "pred = voting_model.predict(x_test)\n",
        "print(classification_report(pred,y_test))"
      ],
      "metadata": {
        "colab": {
          "base_uri": "https://localhost:8080/"
        },
        "id": "-GjuX7KqW-vq",
        "outputId": "8ddeb2fb-faae-4ebf-9ce4-febd022e56d4"
      },
      "execution_count": null,
      "outputs": [
        {
          "output_type": "stream",
          "name": "stdout",
          "text": [
            "              precision    recall  f1-score   support\n",
            "\n",
            "           0       0.99      0.98      0.99      3402\n",
            "           1       0.82      0.92      0.87       308\n",
            "\n",
            "    accuracy                           0.98      3710\n",
            "   macro avg       0.91      0.95      0.93      3710\n",
            "weighted avg       0.98      0.98      0.98      3710\n",
            "\n"
          ]
        }
      ]
    },
    {
      "cell_type": "code",
      "source": [
        "#ensemble model\n",
        "\n",
        "from sklearn.ensemble import VotingClassifier\n",
        "\n",
        "estimators = [('LR', LR_model), ('DT', DT_model), ('SVM', SVM_model)]\n",
        "voting_model = VotingClassifier(estimators=estimators, voting='soft')\n",
        "voting_model.fit(x_train, y_train)\n",
        "pred = voting_model.predict(x_test)\n",
        "print(classification_report(pred,y_test))"
      ],
      "metadata": {
        "colab": {
          "base_uri": "https://localhost:8080/"
        },
        "id": "8G7TJclUXCyR",
        "outputId": "fd00822b-b8f9-4a47-ba43-085be29792c2"
      },
      "execution_count": null,
      "outputs": [
        {
          "output_type": "stream",
          "name": "stdout",
          "text": [
            "              precision    recall  f1-score   support\n",
            "\n",
            "           0       0.99      0.98      0.99      3402\n",
            "           1       0.83      0.93      0.87       308\n",
            "\n",
            "    accuracy                           0.98      3710\n",
            "   macro avg       0.91      0.95      0.93      3710\n",
            "weighted avg       0.98      0.98      0.98      3710\n",
            "\n"
          ]
        }
      ]
    },
    {
      "cell_type": "code",
      "source": [
        "#sampling\n",
        "\n",
        "from sklearn.ensemble import BaggingClassifier\n",
        "\n",
        "bagging_model = BaggingClassifier(n_estimators=100, estimator = LR_model, random_state=99)\n",
        "bagging_model.fit(x_train, y_train)\n",
        "pred = bagging_model.predict(x_test)\n",
        "print(classification_report(pred,y_test))"
      ],
      "metadata": {
        "colab": {
          "base_uri": "https://localhost:8080/"
        },
        "id": "jGaj4j5xXIqI",
        "outputId": "ad11458e-5663-425f-9c7e-6184fd67a99c"
      },
      "execution_count": null,
      "outputs": [
        {
          "output_type": "stream",
          "name": "stdout",
          "text": [
            "              precision    recall  f1-score   support\n",
            "\n",
            "           0       0.99      0.98      0.99      3407\n",
            "           1       0.82      0.93      0.87       303\n",
            "\n",
            "    accuracy                           0.98      3710\n",
            "   macro avg       0.91      0.96      0.93      3710\n",
            "weighted avg       0.98      0.98      0.98      3710\n",
            "\n"
          ]
        }
      ]
    },
    {
      "cell_type": "code",
      "source": [
        "from sklearn.ensemble import AdaBoostClassifier\n",
        "from sklearn.ensemble import GradientBoostingClassifier"
      ],
      "metadata": {
        "id": "yBqu_cjqXNRP"
      },
      "execution_count": null,
      "outputs": []
    },
    {
      "cell_type": "code",
      "source": [
        "#Adaboost\n",
        "adaboost = AdaBoostClassifier(n_estimators=100, estimator=LR_model)\n",
        "adaboost.fit(x_train, y_train)\n",
        "pred = adaboost.predict(x_test)\n",
        "print(classification_report(pred,y_test))"
      ],
      "metadata": {
        "colab": {
          "base_uri": "https://localhost:8080/"
        },
        "id": "mgdUDSUsXO1n",
        "outputId": "29de2cc2-436c-46f4-c225-ddc66e4820a2"
      },
      "execution_count": null,
      "outputs": [
        {
          "output_type": "stream",
          "name": "stdout",
          "text": [
            "              precision    recall  f1-score   support\n",
            "\n",
            "           0       1.00      0.98      0.99      3423\n",
            "           1       0.79      0.95      0.86       287\n",
            "\n",
            "    accuracy                           0.98      3710\n",
            "   macro avg       0.89      0.96      0.92      3710\n",
            "weighted avg       0.98      0.98      0.98      3710\n",
            "\n"
          ]
        }
      ]
    },
    {
      "cell_type": "code",
      "source": [
        "#gradient boosting\n",
        "\n",
        "GBM_model = GradientBoostingClassifier(n_estimators=100, subsample=1)\n",
        "GBM_model.fit(x_train, y_train)\n",
        "pred = GBM_model.predict(x_test)\n",
        "print(classification_report(pred,y_test))"
      ],
      "metadata": {
        "colab": {
          "base_uri": "https://localhost:8080/"
        },
        "id": "RkVykcjvXQD_",
        "outputId": "93f348ca-4f76-4362-81c6-6c06316f0f1b"
      },
      "execution_count": null,
      "outputs": [
        {
          "output_type": "stream",
          "name": "stdout",
          "text": [
            "              precision    recall  f1-score   support\n",
            "\n",
            "           0       0.99      0.99      0.99      2533\n",
            "           1       0.89      0.90      0.89       249\n",
            "\n",
            "    accuracy                           0.98      2782\n",
            "   macro avg       0.94      0.94      0.94      2782\n",
            "weighted avg       0.98      0.98      0.98      2782\n",
            "\n"
          ]
        }
      ]
    },
    {
      "cell_type": "code",
      "source": [
        "grid = {\n",
        "\n",
        "    'learning_rate':[0.01,0.05,0.1],\n",
        "\n",
        "    'n_estimators':np.arange(100,500,100),\n",
        "\n",
        "}\n",
        "\n",
        "gb = GradientBoostingClassifier()\n",
        "\n",
        "gb_cv = GridSearchCV(gb, grid, cv = 4)\n",
        "\n",
        "gb_cv.fit(x_train,y_train)\n",
        "\n",
        "print(\"Best Parameters:\",gb_cv.best_params_)"
      ],
      "metadata": {
        "colab": {
          "base_uri": "https://localhost:8080/"
        },
        "id": "hBtU9sd5XexV",
        "outputId": "d7e45cb0-1ac0-4266-f295-b85651b1b84f"
      },
      "execution_count": null,
      "outputs": [
        {
          "output_type": "stream",
          "name": "stdout",
          "text": [
            "Best Parameters: {'learning_rate': 0.05, 'n_estimators': 100}\n"
          ]
        }
      ]
    },
    {
      "cell_type": "code",
      "source": [
        "#gradient boosting\n",
        "\n",
        "GBM_model = GradientBoostingClassifier(n_estimators=100, subsample=1, learning_rate= 0.05)\n",
        "GBM_model.fit(x_train, y_train)\n",
        "pred = GBM_model.predict(x_test)\n",
        "print(classification_report(pred,y_test))"
      ],
      "metadata": {
        "colab": {
          "base_uri": "https://localhost:8080/"
        },
        "id": "uTFcBu5-cR7E",
        "outputId": "ef956b97-300b-48b5-daf1-b40a8d4bad9b"
      },
      "execution_count": null,
      "outputs": [
        {
          "output_type": "stream",
          "name": "stdout",
          "text": [
            "              precision    recall  f1-score   support\n",
            "\n",
            "           0       0.99      0.99      0.99      2538\n",
            "           1       0.89      0.92      0.91       244\n",
            "\n",
            "    accuracy                           0.98      2782\n",
            "   macro avg       0.94      0.96      0.95      2782\n",
            "weighted avg       0.98      0.98      0.98      2782\n",
            "\n"
          ]
        }
      ]
    }
  ]
}